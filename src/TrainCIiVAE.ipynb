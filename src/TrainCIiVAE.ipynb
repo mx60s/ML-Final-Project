{
 "cells": [
  {
   "cell_type": "markdown",
   "id": "c1dc2a94-47c0-4309-8a8d-8ee4e8a40b41",
   "metadata": {
    "id": "c1dc2a94-47c0-4309-8a8d-8ee4e8a40b41",
    "tags": []
   },
   "source": [
    "## Imports"
   ]
  },
  {
   "cell_type": "code",
   "execution_count": null,
   "id": "373b55da-7924-4f7e-8108-b25b56a8e430",
   "metadata": {
    "colab": {
     "base_uri": "https://localhost:8080/"
    },
    "executionInfo": {
     "elapsed": 1121,
     "status": "ok",
     "timestamp": 1681950577095,
     "user": {
      "displayName": "Margaret C Von Ebers",
      "userId": "06061779341867089677"
     },
     "user_tz": 300
    },
    "id": "373b55da-7924-4f7e-8108-b25b56a8e430",
    "outputId": "7133ace9-e327-4803-e007-023847561c3a",
    "tags": []
   },
   "outputs": [],
   "source": [
    "from google.colab import drive\n",
    "drive.mount('/content/gdrive')"
   ]
  },
  {
   "cell_type": "code",
   "execution_count": null,
   "id": "e6e8ab51-c3bc-4fe0-96cc-477e3be838b6",
   "metadata": {
    "colab": {
     "base_uri": "https://localhost:8080/"
    },
    "executionInfo": {
     "elapsed": 17914,
     "status": "ok",
     "timestamp": 1681950594995,
     "user": {
      "displayName": "Margaret C Von Ebers",
      "userId": "06061779341867089677"
     },
     "user_tz": 300
    },
    "id": "e6e8ab51-c3bc-4fe0-96cc-477e3be838b6",
    "outputId": "c885d0df-0910-47d4-a8f0-ce63fa127dc2",
    "tags": []
   },
   "outputs": [],
   "source": [
    "# change path to reflect your env\n",
    "%cd /content/gdrive/MyDrive/ml-final/ML-Final-Project\n",
    "! pip3 install -r requirements.txt"
   ]
  },
  {
   "cell_type": "code",
   "execution_count": null,
   "id": "e8c77ea2-a913-4086-91ef-7b62b8f47fff",
   "metadata": {
    "colab": {
     "base_uri": "https://localhost:8080/"
    },
    "executionInfo": {
     "elapsed": 22,
     "status": "ok",
     "timestamp": 1681950594999,
     "user": {
      "displayName": "Margaret C Von Ebers",
      "userId": "06061779341867089677"
     },
     "user_tz": 300
    },
    "id": "e8c77ea2-a913-4086-91ef-7b62b8f47fff",
    "outputId": "bbd784bd-c00c-4f19-acf2-618439fcc4cc",
    "tags": []
   },
   "outputs": [],
   "source": [
    "import sys\n",
    "sys.path.append('/content/drive/MyDrive/ml-final/ML-Final-Project/src')\n",
    "sys.path.append('/content/drive/MyDrive/ml-final/ML-Final-Project/src/utils')\n",
    "\n",
    "%cd /content/gdrive/MyDrive/ml-final/ML-Final-Project/src"
   ]
  },
  {
   "cell_type": "code",
   "execution_count": null,
   "id": "zY0kRRWzwcPF",
   "metadata": {
    "colab": {
     "base_uri": "https://localhost:8080/"
    },
    "executionInfo": {
     "elapsed": 25737,
     "status": "ok",
     "timestamp": 1681950620720,
     "user": {
      "displayName": "Margaret C Von Ebers",
      "userId": "06061779341867089677"
     },
     "user_tz": 300
    },
    "id": "zY0kRRWzwcPF",
    "outputId": "faa2ead1-e9e9-48d9-c4ac-9e5d04c054be",
    "tags": []
   },
   "outputs": [],
   "source": [
    "#!pip install numpy --upgrade\n",
    "!pip install cebra\n",
    "#!pip install h5py"
   ]
  },
  {
   "cell_type": "code",
   "execution_count": null,
   "id": "98441a9e-e0a0-494b-a166-eeed278fd2e5",
   "metadata": {
    "colab": {
     "base_uri": "https://localhost:8080/"
    },
    "executionInfo": {
     "elapsed": 12262,
     "status": "ok",
     "timestamp": 1681950632950,
     "user": {
      "displayName": "Margaret C Von Ebers",
      "userId": "06061779341867089677"
     },
     "user_tz": 300
    },
    "id": "98441a9e-e0a0-494b-a166-eeed278fd2e5",
    "outputId": "d4db5330-a4a3-4119-ebeb-b90cd966d251",
    "tags": []
   },
   "outputs": [],
   "source": [
    "# this cell sometimes needs to be run again after the following cell in order to correctly load the dataset\n",
    "# we've tried to fix it but it remains like this -- not sure why!\n",
    "\n",
    "import torch\n",
    "\n",
    "import matplotlib.pyplot as plt\n",
    "import numpy as np\n",
    "import joblib as jl\n",
    "import cebra.datasets\n",
    "from cebra import CEBRA\n",
    "from utils.nets import *\n",
    "from utils.model_tools import *\n",
    "import utils.ciivae_etc as UTIL\n",
    "from scipy.ndimage import gaussian_filter1d"
   ]
  },
  {
   "cell_type": "code",
   "execution_count": null,
   "id": "4b737f7d-89f9-4a71-a58e-d8529e7942fe",
   "metadata": {
    "executionInfo": {
     "elapsed": 48,
     "status": "ok",
     "timestamp": 1681950632955,
     "user": {
      "displayName": "Margaret C Von Ebers",
      "userId": "06061779341867089677"
     },
     "user_tz": 300
    },
    "id": "4b737f7d-89f9-4a71-a58e-d8529e7942fe",
    "tags": []
   },
   "outputs": [],
   "source": [
    "!pip install 'cebra[datasets,demos]'\n",
    "#os.environ['CEBRA_DATADIR'] = \"./data\""
   ]
  },
  {
   "cell_type": "code",
   "execution_count": null,
   "id": "309ba2fd-0cc2-4aa3-8054-80635f170c30",
   "metadata": {
    "executionInfo": {
     "elapsed": 42,
     "status": "ok",
     "timestamp": 1681950632957,
     "user": {
      "displayName": "Margaret C Von Ebers",
      "userId": "06061779341867089677"
     },
     "user_tz": 300
    },
    "id": "309ba2fd-0cc2-4aa3-8054-80635f170c30",
    "tags": []
   },
   "outputs": [],
   "source": [
    "device = 'cuda' if torch.cuda.is_available() else 'cpu'\n",
    "\n",
    "seed = 420\n",
    "\n",
    "random.seed(seed)\n",
    "torch.manual_seed(seed)\n",
    "torch.cuda.manual_seed_all(seed)\n",
    "torch.backends.cudnn.deterministic = True\n",
    "torch.backends.cudnn.benchmark = False"
   ]
  },
  {
   "cell_type": "code",
   "execution_count": null,
   "id": "dc071b39-07f5-458a-82a7-9511e52e63bc",
   "metadata": {
    "colab": {
     "base_uri": "https://localhost:8080/"
    },
    "executionInfo": {
     "elapsed": 291,
     "status": "ok",
     "timestamp": 1681950633210,
     "user": {
      "displayName": "Margaret C Von Ebers",
      "userId": "06061779341867089677"
     },
     "user_tz": 300
    },
    "id": "dc071b39-07f5-458a-82a7-9511e52e63bc",
    "outputId": "2bb3a543-e048-48c5-d8b9-1175c0fc42f2",
    "tags": []
   },
   "outputs": [],
   "source": [
    "ls data/rat_hippocampus/"
   ]
  },
  {
   "cell_type": "markdown",
   "id": "7e289053-ddfe-47a3-a43c-7a5fd94d7792",
   "metadata": {
    "id": "7e289053-ddfe-47a3-a43c-7a5fd94d7792",
    "tags": []
   },
   "source": [
    "## Import data/Preprocess"
   ]
  },
  {
   "cell_type": "code",
   "execution_count": null,
   "id": "75d54f7e-5f36-4a0e-86e3-88a2e66350f4",
   "metadata": {
    "executionInfo": {
     "elapsed": 295,
     "status": "ok",
     "timestamp": 1681951241071,
     "user": {
      "displayName": "Margaret C Von Ebers",
      "userId": "06061779341867089677"
     },
     "user_tz": 300
    },
    "id": "75d54f7e-5f36-4a0e-86e3-88a2e66350f4",
    "tags": []
   },
   "outputs": [],
   "source": [
    "DATA_NAME = 'rat-hippocampus-achilles-3fold-trial-split-0'\n",
    "offset_right = 5\n",
    "offset_left = 5\n",
    "\n",
    "def _call_dataset(offset_right, offset_left, split):\n",
    "    dataset = cebra.datasets.init(DATA_NAME, split = split)\n",
    "    dataset.offset.right = offset_right\n",
    "    dataset.offset.left = offset_left\n",
    "    return dataset\n",
    "\n",
    "train_set = _call_dataset(offset_right, offset_left, 'train')\n",
    "valid_set = _call_dataset(offset_right, offset_left, 'valid')\n",
    "test_set = _call_dataset(offset_right, offset_left, 'test')"
   ]
  },
  {
   "cell_type": "code",
   "execution_count": null,
   "id": "384a1872-9e0b-4323-bc69-91839bde3ca9",
   "metadata": {},
   "outputs": [],
   "source": [
    "from torch.utils.data import TensorDataset, DataLoader\n",
    "\n",
    "def make_loader(dataset, batch_size):\n",
    "    tensor_dataset = TensorDataset(dataset[torch.arange(len(dataset))], dataset.index)\n",
    "    dataloader = DataLoader(tensor_dataset, batch_size=batch_size, shuffle=True)\n",
    "    return tensor_dataset, dataloader\n",
    "\n",
    "train_dataset, train_loader = make_loader(train_set, 200)\n",
    "valid_dataset, valid_loader = make_loader(valid_set, 200)\n",
    "test_dataset, test_loader = make_loader(test_set, 200)\n",
    "\n",
    "train_features, train_labels = next(iter(train_loader))\n",
    "print(train_features[0].shape)\n",
    "print(train_labels[0].shape)"
   ]
  },
  {
   "cell_type": "code",
   "execution_count": null,
   "id": "5b695ab5-e315-4144-bc10-383d03e76321",
   "metadata": {
    "colab": {
     "base_uri": "https://localhost:8080/",
     "height": 315
    },
    "executionInfo": {
     "elapsed": 517,
     "status": "ok",
     "timestamp": 1681951248509,
     "user": {
      "displayName": "Margaret C Von Ebers",
      "userId": "06061779341867089677"
     },
     "user_tz": 300
    },
    "id": "5b695ab5-e315-4144-bc10-383d03e76321",
    "outputId": "2072adba-ce00-4060-dfed-767b9136cd31",
    "tags": []
   },
   "outputs": [],
   "source": [
    "fig = plt.figure(figsize=(9,3))\n",
    "plt.subplots_adjust(wspace = 0.3)\n",
    "ax = plt.subplot(121)\n",
    "ax.imshow(train_set.neural.numpy()[:1000].T, aspect = 'auto', cmap = 'gray_r')\n",
    "plt.ylabel('Neuron #')\n",
    "plt.xlabel('Time [s]')\n",
    "plt.xticks(np.linspace(0, 1000, 5), np.linspace(0, 0.025*1000, 5, dtype = int))\n",
    "\n",
    "ax2 = plt.subplot(122)\n",
    "ax2.scatter(np.arange(1000), train_set.continuous_index[:1000,0], c = 'gray', s=1)\n",
    "plt.ylabel('Position [m]')\n",
    "plt.xlabel('Time [s]')\n",
    "plt.xticks(np.linspace(0, 1000, 5), np.linspace(0, 0.025*1000, 5, dtype = int))\n",
    "plt.show()\n",
    "\n",
    "print(train_set.neural.numpy().shape)"
   ]
  },
  {
   "cell_type": "markdown",
   "id": "ce0e35d4-3e05-48f8-92f4-c5fef359fec9",
   "metadata": {
    "id": "ce0e35d4-3e05-48f8-92f4-c5fef359fec9",
    "tags": []
   },
   "source": [
    "## Train CI-iVAE"
   ]
  },
  {
   "cell_type": "code",
   "execution_count": null,
   "id": "758ea7bf-379a-415d-9118-0bd58d0fa52f",
   "metadata": {
    "colab": {
     "base_uri": "https://localhost:8080/",
     "height": 976
    },
    "executionInfo": {
     "elapsed": 568432,
     "status": "error",
     "timestamp": 1681954406660,
     "user": {
      "displayName": "Margaret C Von Ebers",
      "userId": "06061779341867089677"
     },
     "user_tz": 300
    },
    "id": "758ea7bf-379a-415d-9118-0bd58d0fa52f",
    "outputId": "fb5dd204-3ea2-4794-d58b-64b6a3c2eb1b",
    "tags": []
   },
   "outputs": [],
   "source": [
    "result_path='./results/' + DATA_NAME + '/' + str(seed)\n",
    "\n",
    "ci_ivae = CIiVAE(dim_x=train_set.neural.shape[1], dim_u=3, dim_z=2) #CONV_iVAE.ConvCIiVAE(dim_x=train_set.neural.shape[1], dim_u=3, dim_z=2)\n",
    "\n",
    "# train_x is a list of batches typically handled by the loader. TODO figure out how to do that in our implementation\n",
    "# also: they say something about applying the pi-vae preprocessing script to this data\n",
    "# it's unclear if they actually run the script while loading it or if we should\n",
    "# but that code is available so if we need to it's not a big deal\n",
    "\n",
    "dataloader_dict = {}\n",
    "dataloader_dict['train'] = train_loader\n",
    "dataloader_dict['val'] = valid_loader\n",
    "dataloader_dict['test'] = test_loader\n",
    "\n",
    "# # train CI-iVAE networks. Results will be saved at the result_path\n",
    "fit(model=ci_ivae, dataloader_dict=dataloader_dict, seed=seed, num_epoch=260, init_lr=5e-4, lr_milestones=[20, 50, 150], result_path=result_path)\n",
    "#CONV_iVAE.fit(model=ci_ivae, x_train=train_x, u_train=train_u,\n",
    "#            x_val=valid_x, u_val=valid_u, seed=seed)"
   ]
  },
  {
   "cell_type": "markdown",
   "id": "730eef1f-051b-4331-9309-2d82f463d7fa",
   "metadata": {
    "executionInfo": {
     "elapsed": 51,
     "status": "aborted",
     "timestamp": 1681950634284,
     "user": {
      "displayName": "Margaret C Von Ebers",
      "userId": "06061779341867089677"
     },
     "user_tz": 300
    },
    "id": "997132b4-dd3e-493e-a35e-3a1314b21bda",
    "jupyter": {
     "outputs_hidden": true
    }
   },
   "source": [
    "## Load CI-iVAE and evaluate"
   ]
  },
  {
   "cell_type": "code",
   "execution_count": null,
   "id": "b6a7dc64-a18a-4b19-bca4-de8ddd32b9e0",
   "metadata": {},
   "outputs": [],
   "source": [
    "ci_ivae = CIiVAE(dim_x=train_set.neural.shape[1], dim_u=3, dim_z=2)\n",
    "\n",
    "state_dict = torch.load(result_path + '/model.pth', map_location=torch.device('cpu'))\n",
    "\n",
    "ci_ivae[0] = state_dict['prior']\n",
    "ci_ivae[1] = state_dict['encoder']\n",
    "ci_ivae[2] = state_dict['decoder']"
   ]
  },
  {
   "cell_type": "code",
   "execution_count": null,
   "id": "931e5930-167c-4097-91bd-5a899bca1480",
   "metadata": {},
   "outputs": [],
   "source": [
    "def evaluate_ciivae(model, x, u, sigma=9/6, device='cpu'):\n",
    "    # feed all in at once\n",
    "    prior, encoder, decoder = model\n",
    "    \n",
    "    prior.eval()\n",
    "    encoder.eval()\n",
    "    decoder.eval()\n",
    "    with torch.no_grad():\n",
    "        lam_mean, lam_log_var = prior(u)\n",
    "        x_reshape = torch.transpose(x, 1, 2)\n",
    "        fire_rate = torch.squeeze(UTIL.gaussian_conv(x_reshape, sigma, device='cpu'))\n",
    "\n",
    "        z_mean, z_log_var = encoder(fire_rate)\n",
    "\n",
    "        z_mean = torch.squeeze(z_mean)\n",
    "        z_log_var = torch.squeeze(z_log_var)\n",
    "        post_mean, post_log_var = UTIL.compute_posterior(z_mean, z_log_var, lam_mean, lam_log_var)\n",
    "    \n",
    "        return post_mean, z_mean\n",
    "\n",
    "    \n",
    "post_mean, z_mean = evaluate_ciivae(ci_ivae, train_set[torch.arange(len(train_set))], train_set.index)\n",
    "labels = train_set.index.numpy()"
   ]
  },
  {
   "cell_type": "code",
   "execution_count": null,
   "id": "8df5dcf0-bf80-418c-87aa-519128e3430d",
   "metadata": {},
   "outputs": [],
   "source": [
    "fig = plt.figure(figsize=(5,5))\n",
    "ax = plt.subplot(111)\n",
    "r_ind = labels[:,1] == 1\n",
    "l_ind = labels[:,2] == 1\n",
    "ax.scatter(post_mean[r_ind, 0], post_mean[r_ind, 1], c=labels[r_ind,0], s=1, cmap = 'cool')\n",
    "ax.scatter(post_mean[l_ind, 0], post_mean[l_ind, 1], c=labels[l_ind,0], s=1, cmap = 'viridis')\n",
    "\n",
    "print(post_mean.shape)\n",
    "\n",
    "plt.savefig(result_path + '/latents_train.png') "
   ]
  },
  {
   "cell_type": "markdown",
   "id": "e7bf93e7-267b-40fd-a123-53ac4f177c29",
   "metadata": {},
   "source": [
    "## Examining Consistency Across Subjects"
   ]
  },
  {
   "cell_type": "code",
   "execution_count": null,
   "id": "b3e8ab40-e713-43ac-bf92-1d505d8e53b0",
   "metadata": {},
   "outputs": [],
   "source": [
    "# load in all subjects\n",
    "# fit linear models\n",
    "# get r2 models\n",
    "\n",
    "r2 = [[] * 4] * 4\n",
    "post_mean_all = {}\n",
    "z_mean_all = {}\n",
    "\n",
    "hippocampus_pos_train = {}\n",
    "hippocampus_pos_test = {}\n",
    "hippocampus_pos_valid = {}\n",
    "\n",
    "rats = ['buddy', 'cicero', 'gatsby', 'achilles']\n",
    "\n",
    "for rat in rats:\n",
    "  data_name = f'rat-hippocampus-{rat}-3fold-trial-split-0'\n",
    "  offset_right = 5\n",
    "  offset_left = 5\n",
    "\n",
    "  result_path = './results/' + data_name\n",
    "\n",
    "  hippocampus_pos_train[rat] = _call_dataset(offset_right, offset_left, 'train', data_name=data_name)\n",
    "  #hippocampus_pos_valid[rat] = _call_dataset(offset_right, offset_left, 'valid')\n",
    "  #hippocampus_pos_test[rat] = _call_dataset(offset_right, offset_left, 'test')\n",
    "\n",
    "  train_dataset, train_loader = make_loader(hippocampus_pos_train[rat], 200)\n",
    "  #valid_dataset, valid_loader = make_loader(valid_set, 200)\n",
    "  #test_dataset, test_loader = make_loader(test_set, 200)\n",
    "\n",
    "  ci_ivae = CIiVAE(dim_x=hippocampus_pos_train[rat].neural.shape[1], dim_u=3, dim_z=2)\n",
    "\n",
    "  state_dict = torch.load(result_path + '/model.pth', \n",
    "                          map_location=torch.device('cpu'))\n",
    "\n",
    "\n",
    "  ci_ivae[0] = state_dict['prior']\n",
    "  ci_ivae[1] = state_dict['encoder']\n",
    "  ci_ivae[2] = state_dict['decoder']\n",
    "  post_mean_train, z_mean_train = evaluate_ciivae(ci_ivae,\n",
    "                                      hippocampus_pos_train[rat][torch.arange(len(hippocampus_pos_train[rat]))],\n",
    "                                      hippocampus_pos_train[rat].index)\n",
    "  #post_mean_test, z_mean_train = evaluate_ciivae(ci_ivae,\n",
    "  #                                    train_set[torch.arange(len(train_set))],\n",
    "  #                                    train_set.index)\n",
    "  #post_mean_train, z_mean_train = evaluate_ciivae(ci_ivae,\n",
    "  #                                    train_set[torch.arange(len(train_set))],\n",
    "  #                                    train_set.index)\n",
    "  post_mean_all[rat] = post_mean_train.numpy()\n",
    "  print(post_mean_train.numpy().shape)\n",
    "  z_mean_all[rat] = z_mean_train\n",
    "\n",
    "del(ci_ivae)\n",
    "del(state_dict)\n",
    "\n",
    "# labels to align the subjects is the position of the mouse in the arena\n",
    "labels_train = [hippocampus_pos_train[rat].continuous_index[:, 0]\n",
    "          for rat in list(hippocampus_pos_train.keys())]\n",
    "#labels_test = [hippocampus_pos_test[rat].continuous_index[:, 0]\n",
    "#          for rat in list(hippocampus_pos_test.keys())]\n",
    "#labels_valid = [hippocampus_pos_valid[rat].continuous_index[:, 0]\n",
    "#          for rat in list(hippocampus_pos_valid.keys())]\n",
    "\n",
    "# consistencies\n",
    "time_scores_train, time_pairs_train, time_subjects_train = cebra.sklearn.metrics.consistency_score(embeddings=list(post_mean_all.values()),\n",
    "                                                                                 labels=labels_train,\n",
    "                                                                                 dataset_ids=rats,\n",
    "                                                                                 between=\"datasets\")\n",
    "\n",
    "\n",
    "fig = plt.figure(figsize=(11, 4))\n",
    "\n",
    "ax1 = plt.subplot(121)\n",
    "\n",
    "ax1 = cebra.plot_consistency(time_scores_train, pairs=time_pairs_train, datasets=time_subjects_train,\n",
    "                             ax=ax1, title=\"Conv-CI-iVAE\", colorbar_label=None, vmin=0, vmax=100)\n"
   ]
  }
 ],
 "metadata": {
  "accelerator": "GPU",
  "colab": {
   "provenance": []
  },
  "gpuClass": "standard",
  "kernelspec": {
   "display_name": "Python 3 (ipykernel)",
   "language": "python",
   "name": "python3"
  },
  "language_info": {
   "codemirror_mode": {
    "name": "ipython",
    "version": 3
   },
   "file_extension": ".py",
   "mimetype": "text/x-python",
   "name": "python",
   "nbconvert_exporter": "python",
   "pygments_lexer": "ipython3",
   "version": "3.10.8"
  }
 },
 "nbformat": 4,
 "nbformat_minor": 5
}
