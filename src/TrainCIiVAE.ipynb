{
 "cells": [
  {
   "cell_type": "markdown",
   "id": "c1dc2a94-47c0-4309-8a8d-8ee4e8a40b41",
   "metadata": {},
   "source": [
    "## Imports"
   ]
  },
  {
   "cell_type": "code",
   "execution_count": null,
   "id": "373b55da-7924-4f7e-8108-b25b56a8e430",
   "metadata": {},
   "outputs": [],
   "source": [
    "from google.colab import drive\n",
    "drive.mount('/content/gdrive')"
   ]
  },
  {
   "cell_type": "code",
   "execution_count": null,
   "id": "e6e8ab51-c3bc-4fe0-96cc-477e3be838b6",
   "metadata": {},
   "outputs": [],
   "source": [
    "# change path to reflect your env\n",
    "%cd / content/gdrive/MyDrive/final-ml/ML-Final-Project\n",
    "! pip3 install -r requirements.txt"
   ]
  },
  {
   "cell_type": "code",
   "execution_count": null,
   "id": "e8c77ea2-a913-4086-91ef-7b62b8f47fff",
   "metadata": {},
   "outputs": [],
   "source": [
    "import sys\n",
    "sys.path.append('/content/drive/MyDrive/cs394n_project/CS394N/src')"
   ]
  },
  {
   "cell_type": "code",
   "execution_count": null,
   "id": "98441a9e-e0a0-494b-a166-eeed278fd2e5",
   "metadata": {},
   "outputs": [],
   "source": [
    "import torch\n",
    "\n",
    "import matplotlib.pyplot as plt\n",
    "import numpy as np\n",
    "\n",
    "from utils.nets import *\n",
    "from utils.model_tools import *\n",
    "from utils.ciivae_etc import *"
   ]
  },
  {
   "cell_type": "code",
   "execution_count": null,
   "id": "309ba2fd-0cc2-4aa3-8054-80635f170c30",
   "metadata": {},
   "outputs": [],
   "source": [
    "device = 'cuda' if torch.cuda.is_available() else 'cpu'\n",
    "\n",
    "seed = 420\n",
    "\n",
    "random.seed(seed)\n",
    "torch.manual_seed(seed)\n",
    "torch.cuda.manual_seed_all(seed)\n",
    "torch.backends.cudnn.deterministic = True\n",
    "torch.backends.cudnn.benchmark = False"
   ]
  },
  {
   "cell_type": "code",
   "execution_count": null,
   "id": "dc071b39-07f5-458a-82a7-9511e52e63bc",
   "metadata": {},
   "outputs": [],
   "source": []
  },
  {
   "cell_type": "markdown",
   "id": "7e289053-ddfe-47a3-a43c-7a5fd94d7792",
   "metadata": {},
   "source": [
    "## Import data/Preprocess"
   ]
  },
  {
   "cell_type": "markdown",
   "id": "ce0e35d4-3e05-48f8-92f4-c5fef359fec9",
   "metadata": {},
   "source": [
    "## Train CI-iVAE"
   ]
  },
  {
   "cell_type": "code",
   "execution_count": null,
   "id": "758ea7bf-379a-415d-9118-0bd58d0fa52f",
   "metadata": {},
   "outputs": [],
   "source": [
    "dim_x = -1 #TODO\n",
    "dim_u = -1 #TODO\n",
    "\n",
    "prior, encoder, decoder = CIiVAE(dim_x, dim_u, dim_z=16, prior_node_list=[128, 128],\n",
    "            encoder_node_list=[4096, 4096], decoder_node_list=[4096, 4096],\n",
    "            decoder_final_activation='sigmoid')\n",
    "\n",
    "enc_optimizer = torch.optim.Adam(encoder.parameters(),\n",
    "                                     betas=Adam_betas,\n",
    "                                     lr=init_lr,\n",
    "                                     weight_decay=weight_decay)\n",
    "\n",
    "gen_optimizer = torch.optim.Adam(list(decoder.parameters())\n",
    "                                     +list(prior.parameters()),\n",
    "                                     betas=Adam_betas,\n",
    "                                     lr=init_lr,\n",
    "                                     weight_decay=weight_decay)"
   ]
  }
 ],
 "metadata": {
  "kernelspec": {
   "display_name": "Python 3 (ipykernel)",
   "language": "python",
   "name": "python3"
  },
  "language_info": {
   "codemirror_mode": {
    "name": "ipython",
    "version": 3
   },
   "file_extension": ".py",
   "mimetype": "text/x-python",
   "name": "python",
   "nbconvert_exporter": "python",
   "pygments_lexer": "ipython3",
   "version": "3.10.8"
  }
 },
 "nbformat": 4,
 "nbformat_minor": 5
}
